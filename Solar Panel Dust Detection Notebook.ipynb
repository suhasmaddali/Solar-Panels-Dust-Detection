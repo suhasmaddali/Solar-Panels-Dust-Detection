version https://git-lfs.github.com/spec/v1
oid sha256:9c9ea33276d85c99106704d3f1627b25ac27a03b716406fd4ab934ab47fa98ff
size 7956936
