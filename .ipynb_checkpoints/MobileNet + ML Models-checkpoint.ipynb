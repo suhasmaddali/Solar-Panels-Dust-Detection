version https://git-lfs.github.com/spec/v1
oid sha256:3a3d1a95e24e28fa558b64f33d4c4f6d2e1e4f23171566ad8eb270cff63ec461
size 5213749
