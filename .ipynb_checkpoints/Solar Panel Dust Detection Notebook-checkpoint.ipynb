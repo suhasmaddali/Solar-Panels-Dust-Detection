version https://git-lfs.github.com/spec/v1
oid sha256:418e8f9739f01483749d2ab378fa2500e6abd1acf5ceb0d2e1cbf8a015d6b956
size 8243429
