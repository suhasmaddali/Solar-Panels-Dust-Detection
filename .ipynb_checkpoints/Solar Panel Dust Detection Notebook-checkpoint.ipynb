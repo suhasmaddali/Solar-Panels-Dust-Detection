version https://git-lfs.github.com/spec/v1
oid sha256:e57b9584c30fbbf51f4a9df477dfb91d6e5cc3a62b37e936b8dd959085df1baa
size 8185942
