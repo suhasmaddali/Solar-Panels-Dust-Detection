version https://git-lfs.github.com/spec/v1
oid sha256:5e5847ea90c1b288f01ca5c76c0c284babb29350baadf15b0a3c09a238630fd8
size 7875332
