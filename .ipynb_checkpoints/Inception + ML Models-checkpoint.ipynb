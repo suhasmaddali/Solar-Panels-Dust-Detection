version https://git-lfs.github.com/spec/v1
oid sha256:995c5172a024403e394eaef5e0a3b45d67ed24be21c37a6443db2606e769a769
size 5171664
