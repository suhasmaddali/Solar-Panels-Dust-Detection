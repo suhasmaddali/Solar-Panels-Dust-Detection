version https://git-lfs.github.com/spec/v1
oid sha256:32743618a030415059a49f75b9db1e8e42a7d686f27ef0446d858f3ca284be65
size 588
