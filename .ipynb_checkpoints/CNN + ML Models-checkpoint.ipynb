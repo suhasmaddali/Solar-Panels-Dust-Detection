version https://git-lfs.github.com/spec/v1
oid sha256:75050ad69ef6b7346a136341de664403ea3d93651afab1ba0740962fd7d6692b
size 4329862
