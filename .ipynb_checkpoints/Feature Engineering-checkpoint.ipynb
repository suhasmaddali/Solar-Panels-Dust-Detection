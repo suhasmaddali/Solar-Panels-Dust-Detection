version https://git-lfs.github.com/spec/v1
oid sha256:96a9eeb91efced86b13d73549287d0efa11c56997b7e3e40f5a8d3d33b2a2ce3
size 37456996
