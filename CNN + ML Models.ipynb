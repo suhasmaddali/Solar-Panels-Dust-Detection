version https://git-lfs.github.com/spec/v1
oid sha256:0af214857782afcdaa11060ffb6008e3d3bf5b961ad516619854cb08f94f5b31
size 5176495
